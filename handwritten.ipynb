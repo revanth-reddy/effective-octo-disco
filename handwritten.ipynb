{
  "nbformat": 4,
  "nbformat_minor": 0,
  "metadata": {
    "colab": {
      "name": "handwritten.ipynb",
      "version": "0.3.2",
      "provenance": [],
      "include_colab_link": true
    },
    "kernelspec": {
      "name": "python3",
      "display_name": "Python 3"
    }
  },
  "cells": [
    {
      "cell_type": "markdown",
      "metadata": {
        "id": "view-in-github",
        "colab_type": "text"
      },
      "source": [
        "<a href=\"https://colab.research.google.com/github/revanth-reddy/effective-octo-disco/blob/master/handwritten.ipynb\" target=\"_parent\"><img src=\"https://colab.research.google.com/assets/colab-badge.svg\" alt=\"Open In Colab\"/></a>"
      ]
    },
    {
      "cell_type": "code",
      "metadata": {
        "id": "CP5TUJ2_4eKN",
        "colab_type": "code",
        "colab": {}
      },
      "source": [
        "import torch \n",
        "import torch.nn as nn \n",
        "import torchvision.datasets as dsets \n",
        "import torchvision.transforms as transforms \n",
        "from torch.autograd import Variable "
      ],
      "execution_count": 0,
      "outputs": []
    },
    {
      "cell_type": "code",
      "metadata": {
        "id": "JpbuMkj_5APR",
        "colab_type": "code",
        "colab": {}
      },
      "source": [
        "# Hyper Parameters \n",
        "input_size = 784\n",
        "num_classes = 10\n",
        "num_epochs = 5\n",
        "batch_size = 100\n",
        "learning_rate = 0.001\n"
      ],
      "execution_count": 0,
      "outputs": []
    },
    {
      "cell_type": "code",
      "metadata": {
        "id": "bLaHQXo45D07",
        "colab_type": "code",
        "colab": {}
      },
      "source": [
        "# MNIST Dataset (Images and Labels) \n",
        "train_dataset = dsets.MNIST(root ='./data', \n",
        "\t\t\t\t\t\t\ttrain = True, \n",
        "\t\t\t\t\t\t\ttransform = transforms.ToTensor(), \n",
        "\t\t\t\t\t\t\tdownload = True) \n",
        "\n",
        "test_dataset = dsets.MNIST(root ='./data', \n",
        "\t\t\t\t\t\ttrain = False, \n",
        "\t\t\t\t\t\ttransform = transforms.ToTensor()) \n",
        "\n",
        "# Dataset Loader (Input Pipline) \n",
        "train_loader = torch.utils.data.DataLoader(dataset = train_dataset, \n",
        "\t\t\t\t\t\t\t\t\t\tbatch_size = batch_size, \n",
        "\t\t\t\t\t\t\t\t\t\tshuffle = True) \n",
        "\n",
        "test_loader = torch.utils.data.DataLoader(dataset = test_dataset, \n",
        "\t\t\t\t\t\t\t\t\t\tbatch_size = batch_size, \n",
        "\t\t\t\t\t\t\t\t\t\tshuffle = False) \n"
      ],
      "execution_count": 0,
      "outputs": []
    },
    {
      "cell_type": "code",
      "metadata": {
        "id": "bv4sh4IO5L7h",
        "colab_type": "code",
        "colab": {}
      },
      "source": [
        "class LogisticRegression(nn.Module): \n",
        "\tdef __init__(self, input_size, num_classes): \n",
        "\t\tsuper(LogisticRegression, self).__init__() \n",
        "\t\tself.linear = nn.Linear(input_size, num_classes) \n",
        "\n",
        "\tdef forward(self, x): \n",
        "\t\tout = self.linear(x) \n",
        "\t\treturn out \n"
      ],
      "execution_count": 0,
      "outputs": []
    },
    {
      "cell_type": "code",
      "metadata": {
        "id": "dGjTAE-T5QLT",
        "colab_type": "code",
        "colab": {}
      },
      "source": [
        "model = LogisticRegression(input_size, num_classes) "
      ],
      "execution_count": 0,
      "outputs": []
    },
    {
      "cell_type": "code",
      "metadata": {
        "id": "xwtOr0Wb5TNG",
        "colab_type": "code",
        "colab": {}
      },
      "source": [
        "criterion = nn.CrossEntropyLoss() \n",
        "optimizer = torch.optim.SGD(model.parameters(), lr = learning_rate) "
      ],
      "execution_count": 0,
      "outputs": []
    },
    {
      "cell_type": "code",
      "metadata": {
        "id": "BhqTpweX5WEH",
        "colab_type": "code",
        "colab": {
          "base_uri": "https://localhost:8080/",
          "height": 527
        },
        "outputId": "71f38f56-c70e-4919-f4f3-497564b7ac78"
      },
      "source": [
        "# Training the Model \n",
        "for epoch in range(num_epochs): \n",
        "\tfor i, (images, labels) in enumerate(train_loader): \n",
        "\t\timages = Variable(images.view(-1, 28 * 28)) \n",
        "\t\tlabels = Variable(labels) \n",
        "\n",
        "\t\t# Forward + Backward + Optimize \n",
        "\t\toptimizer.zero_grad() \n",
        "\t\toutputs = model(images) \n",
        "\t\tloss = criterion(outputs, labels) \n",
        "\t\tloss.backward() \n",
        "\t\toptimizer.step() \n",
        "\n",
        "\t\tif (i + 1) % 100 == 0: \n",
        "\t\t\tprint('Epoch: [% d/% d], Step: [% d/% d], Loss: %.4f' % (epoch + 1, num_epochs, i + 1, len(train_dataset) // batch_size, loss.data)) \n"
      ],
      "execution_count": 14,
      "outputs": [
        {
          "output_type": "stream",
          "text": [
            "Epoch: [ 1/ 5], Step: [ 100/ 600], Loss: 1.7655\n",
            "Epoch: [ 1/ 5], Step: [ 200/ 600], Loss: 1.8021\n",
            "Epoch: [ 1/ 5], Step: [ 300/ 600], Loss: 1.7092\n",
            "Epoch: [ 1/ 5], Step: [ 400/ 600], Loss: 1.6270\n",
            "Epoch: [ 1/ 5], Step: [ 500/ 600], Loss: 1.6129\n",
            "Epoch: [ 1/ 5], Step: [ 600/ 600], Loss: 1.5340\n",
            "Epoch: [ 2/ 5], Step: [ 100/ 600], Loss: 1.4741\n",
            "Epoch: [ 2/ 5], Step: [ 200/ 600], Loss: 1.4140\n",
            "Epoch: [ 2/ 5], Step: [ 300/ 600], Loss: 1.4156\n",
            "Epoch: [ 2/ 5], Step: [ 400/ 600], Loss: 1.3613\n",
            "Epoch: [ 2/ 5], Step: [ 500/ 600], Loss: 1.2925\n",
            "Epoch: [ 2/ 5], Step: [ 600/ 600], Loss: 1.3320\n",
            "Epoch: [ 3/ 5], Step: [ 100/ 600], Loss: 1.2520\n",
            "Epoch: [ 3/ 5], Step: [ 200/ 600], Loss: 1.2723\n",
            "Epoch: [ 3/ 5], Step: [ 300/ 600], Loss: 1.2154\n",
            "Epoch: [ 3/ 5], Step: [ 400/ 600], Loss: 1.1646\n",
            "Epoch: [ 3/ 5], Step: [ 500/ 600], Loss: 1.2288\n",
            "Epoch: [ 3/ 5], Step: [ 600/ 600], Loss: 1.1160\n",
            "Epoch: [ 4/ 5], Step: [ 100/ 600], Loss: 1.1312\n",
            "Epoch: [ 4/ 5], Step: [ 200/ 600], Loss: 1.0804\n",
            "Epoch: [ 4/ 5], Step: [ 300/ 600], Loss: 1.0417\n",
            "Epoch: [ 4/ 5], Step: [ 400/ 600], Loss: 1.0438\n",
            "Epoch: [ 4/ 5], Step: [ 500/ 600], Loss: 0.9925\n",
            "Epoch: [ 4/ 5], Step: [ 600/ 600], Loss: 0.9356\n",
            "Epoch: [ 5/ 5], Step: [ 100/ 600], Loss: 1.0593\n",
            "Epoch: [ 5/ 5], Step: [ 200/ 600], Loss: 1.0979\n",
            "Epoch: [ 5/ 5], Step: [ 300/ 600], Loss: 1.0509\n",
            "Epoch: [ 5/ 5], Step: [ 400/ 600], Loss: 0.8831\n",
            "Epoch: [ 5/ 5], Step: [ 500/ 600], Loss: 0.9499\n",
            "Epoch: [ 5/ 5], Step: [ 600/ 600], Loss: 0.9401\n"
          ],
          "name": "stdout"
        }
      ]
    },
    {
      "cell_type": "code",
      "metadata": {
        "id": "8OMDfe2r7L-U",
        "colab_type": "code",
        "colab": {
          "base_uri": "https://localhost:8080/",
          "height": 34
        },
        "outputId": "0b554b65-6609-490c-feba-7e8f2bc39180"
      },
      "source": [
        "# Test the Model \n",
        "correct = 0\n",
        "total = 0\n",
        "for images, labels in test_loader: \n",
        "\timages = Variable(images.view(-1, 28 * 28)) \n",
        "\toutputs = model(images) \n",
        "\t_, predicted = torch.max(outputs.data, 1) \n",
        "\ttotal += labels.size(0) \n",
        "\tcorrect += (predicted == labels).sum() \n",
        "\n",
        "print('Accuracy of the model on the 10000 test images: % d %%' % ( \n",
        "\t\t\t100 * correct / total)) \n"
      ],
      "execution_count": 15,
      "outputs": [
        {
          "output_type": "stream",
          "text": [
            "Accuracy of the model on the 10000 test images:  83 %\n"
          ],
          "name": "stdout"
        }
      ]
    }
  ]
}